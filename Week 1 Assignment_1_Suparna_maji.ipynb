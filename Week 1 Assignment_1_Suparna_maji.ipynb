{
 "cells": [
  {
   "cell_type": "code",
   "execution_count": 5,
   "metadata": {},
   "outputs": [
    {
     "name": "stdout",
     "output_type": "stream",
     "text": [
      "Suparna\n",
      "['apple', 5, 67.7, 'orange']\n",
      "64.6\n",
      "('apple', 'orange', 5, 90)\n"
     ]
    }
   ],
   "source": [
    "#Q1. Create one variable containing following type of data:\n",
    "#(i)\tstring\n",
    "a = \"Suparna\"\n",
    "print(a)\n",
    "\n",
    "#(ii)\tlist\n",
    "l = ['apple', 5, 67.7, 'orange']\n",
    "print(l)\n",
    "\n",
    "#(iii)\tfloat\n",
    "b = 64.6\n",
    "print(b)\n",
    "\n",
    "#(iv)\ttuple\n",
    "t = ('apple', 'orange', 5, 90)\n",
    "print(t)"
   ]
  },
  {
   "cell_type": "code",
   "execution_count": 8,
   "metadata": {},
   "outputs": [
    {
     "name": "stdout",
     "output_type": "stream",
     "text": [
      "<class 'str'>\n",
      "<class 'str'>\n",
      "<class 'list'>\n",
      "<class 'int'>\n"
     ]
    }
   ],
   "source": [
    "#Q2. Given are some following variables containing data:\n",
    "#(i) var1 = ‘ ‘\n",
    "var1 = ''\n",
    "print(type(var1))\n",
    "#(ii) var2 = ‘[ DS , ML , Python]’\n",
    "var2 = '[ DS , ML , Python]'\n",
    "print(type(var2))\n",
    "#(iii) var3 = [ ‘DS’ , ’ML’ , ‘Python’ ]\n",
    "var3 = [ 'DS' , 'ML' , 'Python']\n",
    "print(type(var3))\n",
    "#(iv) var4 = 1.\n",
    "var4 = 1\n",
    "print(type(var4))\n",
    "\n"
   ]
  },
  {
   "cell_type": "code",
   "execution_count": 10,
   "metadata": {},
   "outputs": [
    {
     "name": "stdout",
     "output_type": "stream",
     "text": [
      "2.0\n",
      "1\n",
      "1\n",
      "8\n"
     ]
    }
   ],
   "source": [
    "# # Q3. Explain the use of the following operators using an example:\n",
    "# (i) /\n",
    "#Division\n",
    "a = 4/2\n",
    "print(a)\n",
    "# (ii) %\n",
    "#Reminder\n",
    "b = 5%4\n",
    "print(b)\n",
    "# (iii) //\n",
    "#Quotient\n",
    "c = 5//4\n",
    "print(c)\n",
    "# (iv) **\n",
    "#exponent\n",
    "d= 2**3\n",
    "print(d)"
   ]
  },
  {
   "cell_type": "code",
   "execution_count": 13,
   "metadata": {},
   "outputs": [
    {
     "name": "stdout",
     "output_type": "stream",
     "text": [
      "<class 'str'>\n",
      "suparna\n",
      "<class 'int'>\n",
      "1\n",
      "<class 'int'>\n",
      "2\n",
      "<class 'float'>\n",
      "3.6\n",
      "<class 'str'>\n",
      "grapes\n",
      "<class 'float'>\n",
      "89.8\n",
      "<class 'int'>\n",
      "9\n",
      "<class 'int'>\n",
      "0\n",
      "<class 'str'>\n",
      "potato\n",
      "<class 'str'>\n",
      "red\n"
     ]
    }
   ],
   "source": [
    "#Create a list of length 10 of your choice containing multiple types of data. Using for loop print the element and its data type.\n",
    "l = ['suparna', 1, 2, 3.6, 'grapes', 89.8, 9, 0, 'potato', 'red']\n",
    "for i in l:\n",
    "    print(type(i))\n",
    "    print(i)"
   ]
  },
  {
   "cell_type": "code",
   "execution_count": 27,
   "metadata": {},
   "outputs": [
    {
     "name": "stdout",
     "output_type": "stream",
     "text": [
      "5\n"
     ]
    }
   ],
   "source": [
    "#Using a while loop, verify if the number A is purely divisible by number B and if so then how many times it can be divisible.\n",
    "a = 50\n",
    "b = 5\n",
    "while a % b == 0:\n",
    "    print(b)\n",
    "    b = b - 1 % a \n",
    "    \n",
    "    \n"
   ]
  },
  {
   "cell_type": "code",
   "execution_count": 1,
   "metadata": {},
   "outputs": [
    {
     "name": "stdout",
     "output_type": "stream",
     "text": [
      "0\n",
      "completely divisible\n",
      "0\n",
      "completely divisible\n",
      "2\n",
      "not completely divisible\n",
      "2\n",
      "not completely divisible\n",
      "0\n",
      "completely divisible\n",
      "2\n",
      "not completely divisible\n",
      "1\n",
      "not completely divisible\n",
      "2\n",
      "not completely divisible\n",
      "5\n",
      "not completely divisible\n",
      "0\n",
      "completely divisible\n"
     ]
    }
   ],
   "source": [
    "#Using a while loop, verify if the number A is purely divisible by number B and if so then how many times it can be divisible.\n",
    "a = 50\n",
    "b = 1\n",
    "c = 10\n",
    "while b <= c:\n",
    "    d = a % b\n",
    "    print (d)\n",
    "    if d == 0:\n",
    "        print (\"completely divisible\")\n",
    "        b = b+1\n",
    "    elif d != 0:\n",
    "        print ('not completely divisible')\n",
    "        b = b+1\n",
    "    else:\n",
    "        print ('done!')"
   ]
  },
  {
   "cell_type": "code",
   "execution_count": 2,
   "metadata": {},
   "outputs": [
    {
     "name": "stdout",
     "output_type": "stream",
     "text": [
      "Not Divisible\n",
      "Not Divisible\n",
      "Divisible\n",
      "Not Divisible\n",
      "Not Divisible\n",
      "Divisible\n",
      "Not Divisible\n",
      "Not Divisible\n",
      "Divisible\n",
      "Not Divisible\n",
      "Not Divisible\n",
      "Divisible\n",
      "Not Divisible\n",
      "Not Divisible\n",
      "Divisible\n",
      "Not Divisible\n",
      "Not Divisible\n",
      "Divisible\n",
      "Not Divisible\n",
      "Not Divisible\n",
      "Divisible\n",
      "Not Divisible\n",
      "Not Divisible\n",
      "Divisible\n",
      "Not Divisible\n"
     ]
    }
   ],
   "source": [
    "#Create a list containing 25 int type data. Using for loop and if-else condition print if the element is divisible by 3 or not.\n",
    "l = [1, 2, 3, 4, 5, 6, 7, 8, 9, 10, 11, 12, 13, 14, 15, 16, 17, 18, 19, 20, 21, 22, 23, 24, 25]\n",
    "for i in l:\n",
    "    a = i % 3\n",
    "    if a == 0:\n",
    "        print (\"Divisible\")\n",
    "    elif a != 0:\n",
    "        print (\"Not Divisible\")"
   ]
  },
  {
   "cell_type": "code",
   "execution_count": 19,
   "metadata": {},
   "outputs": [
    {
     "name": "stdout",
     "output_type": "stream",
     "text": [
      "[3, 7, 'payel', 6]\n",
      "[3, 7, 'payel', 8]\n"
     ]
    },
    {
     "data": {
      "text/plain": [
       "str"
      ]
     },
     "execution_count": 19,
     "metadata": {},
     "output_type": "execute_result"
    }
   ],
   "source": [
    "#What do you understand about mutable and immutable data types? Give examples for both showing this property.\n",
    "l1 = [3,7, 'payel', 6]\n",
    "print (l1) \n",
    "l1[3]\n",
    "l1[3] = 8\n",
    "print(l1)\n",
    "type(l1)\n",
    "#so l1 is mutable and the data type for l1 is list. Mutable data means value can be modified after it is created\n",
    "a = \"apple\"\n",
    "a[0]\n",
    "type(a)\n",
    "a[0] = k\n",
    "#we cannot mutate string. Hence it is immutable data\n",
    "\n",
    "\n",
    "\n"
   ]
  }
 ],
 "metadata": {
  "kernelspec": {
   "display_name": "Python 3",
   "language": "python",
   "name": "python3"
  },
  "language_info": {
   "codemirror_mode": {
    "name": "ipython",
    "version": 3
   },
   "file_extension": ".py",
   "mimetype": "text/x-python",
   "name": "python",
   "nbconvert_exporter": "python",
   "pygments_lexer": "ipython3",
   "version": "3.10.5"
  },
  "orig_nbformat": 4
 },
 "nbformat": 4,
 "nbformat_minor": 2
}
