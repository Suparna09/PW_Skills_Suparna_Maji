{
 "cells": [
  {
   "cell_type": "code",
   "execution_count": 3,
   "metadata": {},
   "outputs": [],
   "source": [
    "#Ans1. \n",
    "# There are two types of comment in python:\n",
    "#1.\tSingle-line comments: Single-line comments begin with the hash character (#).\n",
    "#2.\tMulti-line comments: multi-line comments are done using triple-quoted strings (''' or \"\"\").\"\"\"\n"
   ]
  },
  {
   "cell_type": "code",
   "execution_count": 5,
   "metadata": {},
   "outputs": [
    {
     "name": "stdout",
     "output_type": "stream",
     "text": [
      "Ram\n",
      "25\n"
     ]
    }
   ],
   "source": [
    "#Ans2\n",
    "#Variables: In Python, variables are used to store data values.\n",
    "#Assignment of Values:\n",
    "name = \"Ram\"\n",
    "age = 25\n",
    "print(name)\n",
    "print(age)\n",
    "\n"
   ]
  },
  {
   "cell_type": "code",
   "execution_count": 20,
   "metadata": {},
   "outputs": [
    {
     "name": "stdout",
     "output_type": "stream",
     "text": [
      "<class 'int'>\n",
      "100\n",
      "<class 'str'>\n"
     ]
    }
   ],
   "source": [
    "#Ans3 type convertion\n",
    "a = 100\n",
    "t = type (a)\n",
    "print (t)\n",
    "b = str(a)\n",
    "print (b)\n",
    "t2 = type (b)\n",
    "print (t2)"
   ]
  },
  {
   "cell_type": "code",
   "execution_count": null,
   "metadata": {},
   "outputs": [],
   "source": [
    "#Ans4\n",
    "\n",
    "### Writing a Python Script\n",
    "\n",
    "#1. Open a Text Editor: Use any text editor eg. Notepad to write your Python code. Save the file with a `.py` extension (e.g., `hello.py`).\n",
    "\n",
    "#2. Write Your Python Code**: For example,\n",
    "#  print(\"Hello, world!\")\n",
    "\n",
    "### Executing the Python Script\n",
    "\n",
    "#1. **Open the Command Line / Terminal**:\n",
    "\n",
    "#2. **Navigate to the Directory**: Use `cd` to go to the directory where your Python script is saved.\n",
    "\n",
    "#3. **Run the Script**: Enter `python hello.py` (replace `hello.py` with your script's name) and press Enter."
   ]
  },
  {
   "cell_type": "code",
   "execution_count": 1,
   "metadata": {},
   "outputs": [
    {
     "data": {
      "text/plain": [
       "[2, 3]"
      ]
     },
     "execution_count": 1,
     "metadata": {},
     "output_type": "execute_result"
    }
   ],
   "source": [
    "#Ans5:Given a list my_list = [1, 2, 3, 4, 5], write the code to slice the list and obtain the sub-list [2, 3].\n",
    "my_list = [1, 2, 3, 4, 5]\n",
    "my_list[1:3]"
   ]
  },
  {
   "cell_type": "code",
   "execution_count": null,
   "metadata": {},
   "outputs": [],
   "source": [
    "#Ans6: In Python, complex numbers are represented using \"j\" or \"J\" for the imaginary part, like \"3 + 4j\" or \"-2.5J.\"\" \n",
    "# The real part can be accessed using the function real() and imaginary part can be represented by imag().\n"
   ]
  },
  {
   "cell_type": "code",
   "execution_count": 2,
   "metadata": {},
   "outputs": [
    {
     "name": "stdout",
     "output_type": "stream",
     "text": [
      "25\n"
     ]
    }
   ],
   "source": [
    "#Ans 7: The correct way to declare a variable named age and assign the value 25 to it is as follows:\n",
    "age = 25\n",
    "print(age)"
   ]
  },
  {
   "cell_type": "code",
   "execution_count": 3,
   "metadata": {},
   "outputs": [
    {
     "data": {
      "text/plain": [
       "float"
      ]
     },
     "execution_count": 3,
     "metadata": {},
     "output_type": "execute_result"
    }
   ],
   "source": [
    "#Ans 8: \n",
    "price = 9.99\n",
    "#float is the data type\n",
    "type(price)\n"
   ]
  },
  {
   "cell_type": "code",
   "execution_count": 4,
   "metadata": {},
   "outputs": [
    {
     "name": "stdout",
     "output_type": "stream",
     "text": [
      "Suparna Maji\n"
     ]
    }
   ],
   "source": [
    "#Ans9\n",
    "name = \"Suparna Maji\"\n",
    "print(name)"
   ]
  },
  {
   "cell_type": "code",
   "execution_count": 10,
   "metadata": {},
   "outputs": [
    {
     "name": "stdout",
     "output_type": "stream",
     "text": [
      "World\n"
     ]
    }
   ],
   "source": [
    "#Ans 10: Given the string \"Hello, World!\", extract the substring \"World\".\n",
    "# Given string\n",
    "a = \"Hello, World!\"\n",
    "b = a[7:12]\n",
    "print(b)"
   ]
  },
  {
   "cell_type": "code",
   "execution_count": 11,
   "metadata": {},
   "outputs": [
    {
     "data": {
      "text/plain": [
       "False"
      ]
     },
     "execution_count": 11,
     "metadata": {},
     "output_type": "execute_result"
    }
   ],
   "source": [
    "#Ans11\n",
    "is_student = False  # Change to False if you are not a student\n",
    "is_student"
   ]
  }
 ],
 "metadata": {
  "kernelspec": {
   "display_name": "Python 3",
   "language": "python",
   "name": "python3"
  },
  "language_info": {
   "codemirror_mode": {
    "name": "ipython",
    "version": 3
   },
   "file_extension": ".py",
   "mimetype": "text/x-python",
   "name": "python",
   "nbconvert_exporter": "python",
   "pygments_lexer": "ipython3",
   "version": "3.10.5"
  }
 },
 "nbformat": 4,
 "nbformat_minor": 2
}
